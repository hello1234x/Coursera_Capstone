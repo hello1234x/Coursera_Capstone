{
 "cells": [
  {
   "cell_type": "markdown",
   "metadata": {},
   "source": [
    "# The Battle of Neighborhoods"
   ]
  },
  {
   "cell_type": "markdown",
   "metadata": {},
   "source": [
    "###  1. Introduction/Business Problem"
   ]
  },
  {
   "cell_type": "markdown",
   "metadata": {},
   "source": [
    "San Jose, the cultural and financial center of Silicon Valley, is the largest city in Northern California by both population and area. It is the third-most populous city in California (after Los Angeles and San Diego) and the tenth-most populous in the United States. Located in the center of the Santa Clara Valley, San Jose is notable as a center of innovation, for its affluence, Mediterranean climate, and extremely high cost of living. \n",
    "\n",
    "Business stakeholders are interested in opening a bubble tea shop in San Jose but is concerned about current COVID situation. According to studies, a bubble tea shop with to-go and delivery service would probably operate better under the pandemic. Therefore, the aim of this project is to find the most potential location to open a bubble tea shop in San Jose. We will focus on all the neighborhoods in San Jose. Neighbourhood rent is another factor that would be taken into consideration."
   ]
  },
  {
   "cell_type": "markdown",
   "metadata": {},
   "source": [
    "#### 1.1 Target Audiences"
   ]
  },
  {
   "cell_type": "markdown",
   "metadata": {},
   "source": [
    "- Entrepreneurs or Business owners who are interested to investing or opening a restaurant.\n",
    "- Anyone who loves to have their own restaurant as a side business.\n",
    "- Finding the best location for opening a restaurant."
   ]
  },
  {
   "cell_type": "markdown",
   "metadata": {},
   "source": [
    "### 2. Data"
   ]
  },
  {
   "cell_type": "markdown",
   "metadata": {},
   "source": [
    "The following data sources will be needed to extract/generate the required information:\n",
    "- List of all neighbourhoods in San Jose — https://en.wikipedia.org/wiki/Category:Neighborhoods_in_San_Jose,_California\n",
    "- Coordinates of all neighbourhoods and venues — GeoPy Nominatim geocoding\n",
    "- Retrieved Venues data from Foursquare API and fetch Tea Shop, Coffee Shop and Bubble Tea Shop category. — Foursquare API\n",
    "- San Jose rent data — https://www.rentcafe.com/average-rent-market-trends/us/ca/santa-clara-county/san-jose/"
   ]
  },
  {
   "cell_type": "code",
   "execution_count": null,
   "metadata": {},
   "outputs": [],
   "source": []
  }
 ],
 "metadata": {
  "kernelspec": {
   "display_name": "Python",
   "language": "python",
   "name": "conda-env-python-py"
  },
  "language_info": {
   "codemirror_mode": {
    "name": "ipython",
    "version": 3
   },
   "file_extension": ".py",
   "mimetype": "text/x-python",
   "name": "python",
   "nbconvert_exporter": "python",
   "pygments_lexer": "ipython3",
   "version": "3.6.12"
  }
 },
 "nbformat": 4,
 "nbformat_minor": 4
}
